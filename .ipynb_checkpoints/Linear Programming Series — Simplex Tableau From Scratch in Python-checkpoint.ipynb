{
 "cells": [
  {
   "cell_type": "markdown",
   "id": "a2a1d251-20e5-4fd7-bdea-343120ef0ff0",
   "metadata": {},
   "source": [
    "# Linear Programming Series — Simplex Tableau From Scratch in Python"
   ]
  },
  {
   "cell_type": "markdown",
   "id": "88cd2037-6598-443d-9972-90623d89a896",
   "metadata": {},
   "source": [
    "## Linear Programming Using Python and The Simplex Method\n"
   ]
  },
  {
   "cell_type": "markdown",
   "id": "0b2362d5-03d0-42da-b8e7-70c02a141968",
   "metadata": {},
   "source": [
    "### By: Francis Adrian Viernes ©"
   ]
  },
  {
   "cell_type": "markdown",
   "id": "79ce25a3-cfa3-42e4-972e-64dbe47d181b",
   "metadata": {},
   "source": [
    "#### The Linear Problem to Optimize"
   ]
  },
  {
   "cell_type": "markdown",
   "id": "34ab4f10-014a-448c-960a-74a6834bd5dd",
   "metadata": {},
   "source": [
    "For the benefit of first-time readers, let us copy this portion from the original article.\n",
    "\n",
    "“A bond portfolio manager has $100,000 to allocate to two different bonds; one corporate and one government bond. The corporate bond has a yield of 4%, a maturity of 3 years, and an A rating from a rating agency that is translated into a numerical rating of 2 for computational purposes.\n",
    "\n",
    "In contrast, the government bond has a yield of 3%, a maturity of 4 years, and a rating of Aaa with the corresponding numerical rating of 1 (lower numerical ratings correspond to higher quality bonds). The portfolio manager would like to allocate her funds so that the average rating for the portfolio is no worse than Aa (numerical equivalent 1.5) and the average maturity of the portfolio is at most 3.6 years.\n",
    "\n",
    "Any amount not invested in the two bonds will be kept in a cash account that is assumed to earn no interest, for simplicity and does not contribute to the average rating or maturity computations.\n",
    "\n",
    "How should the manager allocate her funds between these two bonds to achieve her objective of maximizing the yield from this investment?”"
   ]
  },
  {
   "cell_type": "markdown",
   "id": "2df4bfc4-7de3-4e08-ace1-d9c3bd820162",
   "metadata": {},
   "source": [
    "#### PRELIMINARIES"
   ]
  },
  {
   "cell_type": "code",
   "execution_count": 9,
   "id": "b137a15e-e3c5-48a3-94f2-203be63918f6",
   "metadata": {},
   "outputs": [],
   "source": [
    "import numpy as np"
   ]
  },
  {
   "cell_type": "markdown",
   "id": "07dceb78-2954-4f08-b0cb-9b69ea5f0255",
   "metadata": {},
   "source": [
    "#### INITIAL TABLEAU"
   ]
  },
  {
   "cell_type": "code",
   "execution_count": 13,
   "id": "6946b550-fc73-46ee-9c40-c87c351dedc9",
   "metadata": {},
   "outputs": [],
   "source": [
    "#Initial Tableau - Coefficients of the Standard Form of LP\n",
    "tableau = np.array([\n",
    "    [-0.04, -0.03, 0, 0, 0, 0],\n",
    "    [1, 1, 1, 0, 0, 100000],\n",
    "    [3, 4, 0, 0, 1, 360000],\n",
    "    [2, 1, 0, 1, 0, 150000],\n",
    "    \n",
    "])\n",
    "\n",
    "#Store the number of rows for the pivot step\n",
    "num_rows = tableau.shape[0]"
   ]
  },
  {
   "cell_type": "code",
   "execution_count": 18,
   "id": "27d4f704-7df2-4ebd-9be6-cb15b00df953",
   "metadata": {},
   "outputs": [],
   "source": [
    "def simplex_method(tableau):\n",
    "    \"\"\"\n",
    "    Applies the Simplex method on the provided tableau to find the optimal solution \n",
    "    for a linear program defined in standard form.\n",
    "    \n",
    "    Parameters:\n",
    "    - tableau (numpy.ndarray): The 2D array that represents the coefficients \n",
    "      of the standard form of the linear program. The tableau should be correctly \n",
    "      initialized according to the problem.\n",
    "      \n",
    "    Returns:\n",
    "    - numpy.ndarray: The modified tableau after applying the Simplex method.\n",
    "    \"\"\"\n",
    "    \n",
    "    num_rows = tableau.shape[0]\n",
    "\n",
    "    # Iterating to optimize\n",
    "    while any(tableau[0, :-1] < 0):\n",
    "        pivot_col = np.argmin(tableau[0, :-1])\n",
    "        ratios = tableau[1:, -1] / tableau[1:, pivot_col]\n",
    "        pivot_row = 1 + np.argmin(ratios)\n",
    "\n",
    "        ###### PIVOT STEP ########\n",
    "        tableau[pivot_row, :] /= tableau[pivot_row, pivot_col]\n",
    "        for row in range(num_rows):\n",
    "            if row != pivot_row:\n",
    "                factor = tableau[row, pivot_col]\n",
    "                tableau[row, :] -= factor * tableau[pivot_row, :]\n",
    "        \n",
    "    return tableau\n",
    "tableau = simplex_method(tableau)"
   ]
  },
  {
   "cell_type": "code",
   "execution_count": 19,
   "id": "dd5413ae-116f-4402-bd17-ccb4495b9ef1",
   "metadata": {},
   "outputs": [
    {
     "name": "stdout",
     "output_type": "stream",
     "text": [
      "x = 50000.0, y = 50000.0\n"
     ]
    }
   ],
   "source": [
    "def get_variable_value_from_tableau(tableau, col_index):\n",
    "    \n",
    "    \"\"\"\n",
    "    Obtain the value of a variable from the tableau based on its column index.\n",
    "\n",
    "    Parameters:\n",
    "    - tableau (numpy.ndarray): The 2D array that represents the current state \n",
    "      of the linear programming tableau.\n",
    "    - col_index (int): The column index corresponding to the variable of interest.\n",
    "      The index should be within the bounds of the tableau dimensions.\n",
    "\n",
    "    Returns:\n",
    "    - float: The value of the specified variable in the solution. If the variable \n",
    "      isn't a basic variable or doesn't have a clear value, it returns 0.\n",
    "    \"\"\"\n",
    "    # Check if there's a single entry of 1 in the column\n",
    "    rows_with_one = np.where(tableau[:, col_index] == 1)[0]\n",
    "\n",
    "    if len(rows_with_one) == 1:  # if there's only one 1 in the column\n",
    "        row_index = rows_with_one[0]\n",
    "        # Check if all other entries are 0\n",
    "        if np.sum(tableau[:, col_index] == 0) == tableau.shape[0] - 1:\n",
    "            return tableau[row_index, -1]\n",
    "    return 0  # return 0 if no such row is found\n",
    "\n",
    "x_value = get_variable_value_from_tableau(tableau, 0)  # x corresponds to column 0\n",
    "y_value = get_variable_value_from_tableau(tableau, 1)  # y corresponds to column 1\n",
    "print(f\"x = {x_value}, y = {y_value}\")"
   ]
  },
  {
   "cell_type": "code",
   "execution_count": null,
   "id": "3fc3c8d9-8b29-43ec-8eab-a501e40a6b11",
   "metadata": {},
   "outputs": [],
   "source": []
  },
  {
   "cell_type": "code",
   "execution_count": null,
   "id": "9c240205-2a8d-451a-84e5-84ec81306ff1",
   "metadata": {},
   "outputs": [],
   "source": []
  }
 ],
 "metadata": {
  "kernelspec": {
   "display_name": "Python 3",
   "language": "python",
   "name": "python3"
  },
  "language_info": {
   "codemirror_mode": {
    "name": "ipython",
    "version": 3
   },
   "file_extension": ".py",
   "mimetype": "text/x-python",
   "name": "python",
   "nbconvert_exporter": "python",
   "pygments_lexer": "ipython3",
   "version": "3.8.8"
  }
 },
 "nbformat": 4,
 "nbformat_minor": 5
}
