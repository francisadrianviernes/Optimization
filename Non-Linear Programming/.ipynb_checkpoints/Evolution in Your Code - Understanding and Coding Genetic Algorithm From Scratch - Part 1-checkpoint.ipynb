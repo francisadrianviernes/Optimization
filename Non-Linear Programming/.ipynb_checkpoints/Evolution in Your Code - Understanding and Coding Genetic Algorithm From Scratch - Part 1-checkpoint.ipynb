{
 "cells": [
  {
   "cell_type": "markdown",
   "id": "a81968c6-1d5f-41f2-af0a-7b4338bee781",
   "metadata": {},
   "source": [
    "# Evolution in Your Code - Understanding and Coding Genetic Algorithm From Scratch - Part 1"
   ]
  },
  {
   "cell_type": "code",
   "execution_count": 1,
   "id": "49f6a2bf-7885-44ff-9bf5-ea86eecaf67a",
   "metadata": {},
   "outputs": [],
   "source": [
    "import random"
   ]
  },
  {
   "cell_type": "markdown",
   "id": "4ac40475-2e07-48b7-8e7a-8ec16c091d9a",
   "metadata": {},
   "source": [
    "## Step 1: Initialization"
   ]
  },
  {
   "cell_type": "code",
   "execution_count": 2,
   "id": "9e45cd2a-062d-47cc-b955-7e27c66ecbb4",
   "metadata": {},
   "outputs": [],
   "source": [
    "# Initialize items with format (value, weight)\n",
    "# Initialize items with format (value, weight)\n",
    "items = [(5, 2), (8, 4), (3, 1), (6, 3), (4, 2),\n",
    "         (7, 5), (9, 4), (12, 6), (2, 1), (11, 7),\n",
    "         (14, 8), (15, 9), (1, 1), (3, 2), (13, 7),\n",
    "         (8, 6), (10, 6), (4, 4), (5, 3), (7, 4)]\n",
    "\n",
    "weight_limit = 25 # in kgs"
   ]
  },
  {
   "cell_type": "code",
   "execution_count": 3,
   "id": "43c06a17-7f76-45b3-86b0-02a2d5b61706",
   "metadata": {},
   "outputs": [
    {
     "data": {
      "text/plain": [
       "[[1, 0, 1, 1, 1, 1, 1, 1, 0, 1, 0, 0, 0, 0, 0, 1, 1, 1, 0, 1],\n",
       " [1, 1, 1, 0, 0, 1, 1, 1, 1, 0, 0, 0, 0, 1, 0, 1, 1, 0, 1, 0],\n",
       " [0, 1, 0, 0, 0, 0, 0, 1, 0, 1, 1, 0, 1, 0, 0, 1, 0, 1, 0, 0],\n",
       " [0, 1, 1, 1, 0, 1, 0, 0, 0, 0, 0, 0, 0, 0, 0, 1, 1, 1, 1, 0],\n",
       " [1, 0, 0, 1, 1, 1, 0, 0, 0, 1, 1, 0, 1, 0, 1, 0, 1, 0, 1, 0],\n",
       " [1, 0, 1, 0, 1, 1, 1, 0, 0, 0, 1, 1, 0, 1, 0, 0, 1, 1, 1, 0],\n",
       " [1, 1, 1, 1, 1, 1, 1, 1, 0, 0, 0, 1, 1, 0, 0, 0, 0, 0, 0, 1],\n",
       " [1, 0, 0, 1, 1, 0, 1, 0, 0, 0, 0, 1, 0, 0, 0, 1, 0, 0, 0, 0],\n",
       " [0, 1, 1, 0, 0, 0, 0, 0, 1, 1, 1, 1, 0, 1, 0, 0, 1, 0, 0, 0],\n",
       " [1, 0, 0, 1, 1, 1, 0, 1, 0, 0, 1, 0, 1, 0, 1, 0, 0, 1, 1, 0]]"
      ]
     },
     "execution_count": 3,
     "metadata": {},
     "output_type": "execute_result"
    }
   ],
   "source": [
    "def initialize_population(pop_size):\n",
    "    return [[random.choice([0, 1]) for _ in range(len(items))] for _ in range(pop_size)]\n",
    "\n",
    "\n",
    "# Initialize population\n",
    "population = initialize_population(10)\n",
    "population"
   ]
  },
  {
   "cell_type": "markdown",
   "id": "741cbbe0-0878-4fc5-a601-e494bfac57cc",
   "metadata": {},
   "source": [
    "## Step 2: Evaluate Fitness"
   ]
  },
  {
   "cell_type": "code",
   "execution_count": null,
   "id": "2a1d4e45-4438-4cf5-9612-3944b5c33726",
   "metadata": {},
   "outputs": [],
   "source": [
    "def evaluate_fitness(individual):\n",
    "    \"\"\"\n",
    "    Evaluate the fitness of an individual based on the total value of selected items.\n",
    "    \n",
    "    Parameters:\n",
    "    - individual: list, a binary list representing the selected items\n",
    "    \n",
    "    Returns:\n",
    "    - int, the total value of the selected items, or 0 if the weight limit is exceeded\n",
    "    \"\"\"\n",
    "    total_value, total_weight = 0, 0\n",
    "    for i, chosen in enumerate(individual):\n",
    "        value, weight = items[i]\n",
    "        total_value += value * chosen\n",
    "        total_weight += weight * chosen\n",
    "    if total_weight > weight_limit:\n",
    "        return 0\n",
    "    return total_value"
   ]
  },
  {
   "cell_type": "markdown",
   "id": "a09d9546-69a4-4c7f-aeee-1daaa3c30acb",
   "metadata": {},
   "source": [
    "## Step 3: Parent Selection\n"
   ]
  },
  {
   "cell_type": "code",
   "execution_count": 22,
   "id": "52f2616e-ebbf-4458-9922-79a03213b1b3",
   "metadata": {},
   "outputs": [],
   "source": [
    "def select_parents(population):\n",
    "    \"\"\"\n",
    "    Select the best two individuals from the population based on their fitness.\n",
    "    \n",
    "    Parameters:\n",
    "    - population: list of lists, each sublist represents an individual in the population\n",
    "    \n",
    "    Returns:\n",
    "    - list of lists, the two best individuals based on fitness\n",
    "    \"\"\"\n",
    "    sorted_population = sorted(population, key=evaluate_fitness, reverse=True)\n",
    "    return sorted_population[:2]"
   ]
  },
  {
   "cell_type": "markdown",
   "id": "00ded350-bd58-4a0d-8df6-0b3fae8b22b5",
   "metadata": {},
   "source": [
    "## Step 4: Cross-over"
   ]
  },
  {
   "cell_type": "code",
   "execution_count": null,
   "id": "4a4cfd77-cd6d-4207-afd1-42adb81bbfeb",
   "metadata": {},
   "outputs": [],
   "source": [
    "def crossover(parent1, parent2):\n",
    "    \"\"\"\n",
    "    Perform crossover between two parents to create two children.\n",
    "    \n",
    "    Parameters:\n",
    "    - parent1: list, a binary list representing the first parent\n",
    "    - parent2: list, a binary list representing the second parent\n",
    "    \n",
    "    Returns:\n",
    "    - tuple of lists, two children created through crossover\n",
    "    \"\"\"\n",
    "    crossover_point = random.randint(1, len(items) - 1)\n",
    "    child1 = parent1[:crossover_point] + parent2[crossover_point:]\n",
    "    child2 = parent2[:crossover_point] + parent1[crossover_point:]\n",
    "    return child1, child2"
   ]
  },
  {
   "cell_type": "markdown",
   "id": "fcb54de9-418c-41a7-bd44-aefa8af44063",
   "metadata": {},
   "source": [
    "## Step 5: Mutation"
   ]
  },
  {
   "cell_type": "code",
   "execution_count": 23,
   "id": "b45300b1-4c92-41e4-9b41-04befddd830b",
   "metadata": {},
   "outputs": [],
   "source": [
    "def mutate(child):\n",
    "    \"\"\"\n",
    "    Perform mutation on a child by flipping one random bit.\n",
    "    \n",
    "    Parameters:\n",
    "    - child: list, a binary list representing the child\n",
    "    \n",
    "    Returns:\n",
    "    - None\n",
    "    \"\"\"\n",
    "    mutation_point = random.randint(0, len(items) - 1)\n",
    "    child[mutation_point] = 1 - child[mutation_point]"
   ]
  },
  {
   "cell_type": "markdown",
   "id": "230b3cd3-b78a-4de5-9c67-5bbf511b7fe6",
   "metadata": {},
   "source": [
    "## Step 6: Best Individual and the Demonstration for The Loop for GA"
   ]
  },
  {
   "cell_type": "code",
   "execution_count": 24,
   "id": "0ecb6814-5a94-45cb-aca8-b917f28d45a5",
   "metadata": {},
   "outputs": [
    {
     "name": "stdout",
     "output_type": "stream",
     "text": [
      "Generation 1: Best fitness = 44, Total weight = 23\n",
      "Generation 2: Best fitness = 46, Total weight = 25\n",
      "Generation 3: Best fitness = 42, Total weight = 23\n",
      "Generation 4: Best fitness = 41, Total weight = 23\n",
      "Generation 5: Best fitness = 43, Total weight = 24\n",
      "Generation 6: Best fitness = 43, Total weight = 24\n",
      "Generation 7: Best fitness = 38, Total weight = 21\n",
      "Generation 8: Best fitness = 45, Total weight = 25\n",
      "Generation 9: Best fitness = 43, Total weight = 24\n",
      "Generation 10: Best fitness = 40, Total weight = 24\n",
      "Generation 11: Best fitness = 42, Total weight = 24\n",
      "Generation 12: Best fitness = 43, Total weight = 25\n",
      "Generation 13: Best fitness = 42, Total weight = 24\n",
      "Generation 14: Best fitness = 46, Total weight = 25\n",
      "Generation 15: Best fitness = 44, Total weight = 25\n",
      "Generation 16: Best fitness = 43, Total weight = 24\n",
      "Generation 17: Best fitness = 43, Total weight = 24\n",
      "Generation 18: Best fitness = 41, Total weight = 23\n",
      "Generation 19: Best fitness = 42, Total weight = 24\n",
      "Generation 20: Best fitness = 47, Total weight = 24\n"
     ]
    }
   ],
   "source": [
    "# Run genetic algorithm\n",
    "# Let us say for now, we want 20 generations\n",
    "generations = 20\n",
    "\n",
    "for generation in range(generations):\n",
    "    # New Population from the resulting function which we will use in the new loop\n",
    "    new_population = []\n",
    "    for _ in range(len(population) // 2): # Divided by 2 because we have 2 children per loop\n",
    "        #Parent Selection\n",
    "        parent1, parent2 = select_parents(population)\n",
    "        \n",
    "        #Crossover \n",
    "        child1, child2 = crossover(parent1, parent2)\n",
    "        \n",
    "        #Mutation \n",
    "        mutate(child1)\n",
    "        mutate(child2)\n",
    "        # Per iteration, we add in two children from the best parents\n",
    "        new_population += [child1, child2]\n",
    "\n",
    "    # Reassign the resulting population as the new population for the next gen\n",
    "    population = new_population\n",
    "    best_individual = max(population, key=evaluate_fitness)\n",
    "    best_fitness = evaluate_fitness(best_individual)\n",
    "    total_weight = sum(items[i][1]*chosen for i, chosen in enumerate(best_individual))\n",
    "    \n",
    "    print(f\"Generation {generation + 1}: Best fitness = {best_fitness}, Total weight = {total_weight}\")"
   ]
  },
  {
   "cell_type": "markdown",
   "id": "b56aeecb-b2a4-4444-b73b-4657f9e8fa0e",
   "metadata": {},
   "source": [
    "# FULL CODE"
   ]
  },
  {
   "cell_type": "code",
   "execution_count": 25,
   "id": "1c4fa587-4560-439e-b23c-d5b564ad9cce",
   "metadata": {},
   "outputs": [
    {
     "name": "stdout",
     "output_type": "stream",
     "text": [
      "Generation 1: Best fitness = 40, Total weight = 22\n",
      "Generation 2: Best fitness = 44, Total weight = 24\n",
      "Generation 3: Best fitness = 46, Total weight = 25\n",
      "Generation 4: Best fitness = 44, Total weight = 24\n",
      "Generation 5: Best fitness = 46, Total weight = 25\n",
      "Generation 6: Best fitness = 42, Total weight = 24\n",
      "Generation 7: Best fitness = 41, Total weight = 23\n",
      "Generation 8: Best fitness = 43, Total weight = 24\n",
      "Generation 9: Best fitness = 43, Total weight = 24\n",
      "Generation 10: Best fitness = 42, Total weight = 23\n",
      "Generation 11: Best fitness = 45, Total weight = 24\n",
      "Generation 12: Best fitness = 47, Total weight = 25\n",
      "Generation 13: Best fitness = 43, Total weight = 23\n",
      "Generation 14: Best fitness = 47, Total weight = 25\n",
      "Generation 15: Best fitness = 45, Total weight = 24\n",
      "Generation 16: Best fitness = 44, Total weight = 23\n",
      "Generation 17: Best fitness = 45, Total weight = 24\n",
      "Generation 18: Best fitness = 47, Total weight = 25\n",
      "Generation 19: Best fitness = 44, Total weight = 24\n",
      "Generation 20: Best fitness = 43, Total weight = 23\n"
     ]
    }
   ],
   "source": [
    "import random\n",
    "\n",
    "# Initialize items with format (value, weight)\n",
    "# 20 items\n",
    "items = [(5, 2), (8, 4), (3, 1), (6, 3), (4, 2),\n",
    "         (7, 5), (9, 4), (12, 6), (2, 1), (11, 7),\n",
    "         (14, 8), (15, 9), (1, 1), (3, 2), (13, 7),\n",
    "         (8, 6), (10, 6), (4, 4), (5, 3), (7, 4)]\n",
    "\n",
    "# Weight limit changed to 50\n",
    "weight_limit = 25\n",
    "\n",
    "def initialize_population(pop_size):\n",
    "    \"\"\"\n",
    "    Initialize the population with random individuals.\n",
    "    \n",
    "    Parameters:\n",
    "    - pop_size: int, size of the population to initialize\n",
    "    \n",
    "    Returns:\n",
    "    - list of lists, each sublist represents an individual in the population.\n",
    "    \"\"\"\n",
    "    return [[random.choice([0, 1]) for _ in range(len(items))] for _ in range(pop_size)]\n",
    "\n",
    "def evaluate_fitness(individual):\n",
    "    \"\"\"\n",
    "    Evaluate the fitness of an individual based on the total value of selected items.\n",
    "    \n",
    "    Parameters:\n",
    "    - individual: list, a binary list representing the selected items\n",
    "    \n",
    "    Returns:\n",
    "    - int, the total value of the selected items, or 0 if the weight limit is exceeded\n",
    "    \"\"\"\n",
    "    total_value, total_weight = 0, 0\n",
    "    for i, chosen in enumerate(individual):\n",
    "        value, weight = items[i]\n",
    "        total_value += value * chosen\n",
    "        total_weight += weight * chosen\n",
    "    if total_weight > weight_limit:\n",
    "        return 0\n",
    "    return total_value\n",
    "\n",
    "def select_parents(population):\n",
    "    \"\"\"\n",
    "    Select the best two individuals from the population based on their fitness.\n",
    "    \n",
    "    Parameters:\n",
    "    - population: list of lists, each sublist represents an individual in the population\n",
    "    \n",
    "    Returns:\n",
    "    - list of lists, the two best individuals based on fitness\n",
    "    \"\"\"\n",
    "    sorted_population = sorted(population, key=evaluate_fitness, reverse=True)\n",
    "    return sorted_population[:2]\n",
    "\n",
    "def crossover(parent1, parent2):\n",
    "    \"\"\"\n",
    "    Perform crossover between two parents to create two children.\n",
    "    \n",
    "    Parameters:\n",
    "    - parent1: list, a binary list representing the first parent\n",
    "    - parent2: list, a binary list representing the second parent\n",
    "    \n",
    "    Returns:\n",
    "    - tuple of lists, two children created through crossover\n",
    "    \"\"\"\n",
    "    crossover_point = random.randint(1, len(items) - 1)\n",
    "    child1 = parent1[:crossover_point] + parent2[crossover_point:]\n",
    "    child2 = parent2[:crossover_point] + parent1[crossover_point:]\n",
    "    return child1, child2\n",
    "\n",
    "def mutate(child):\n",
    "    \"\"\"\n",
    "    Perform mutation on a child by flipping one random bit.\n",
    "    \n",
    "    Parameters:\n",
    "    - child: list, a binary list representing the child\n",
    "    \n",
    "    Returns:\n",
    "    - None\n",
    "    \"\"\"\n",
    "    mutation_point = random.randint(0, len(items) - 1)\n",
    "    child[mutation_point] = 1 - child[mutation_point]\n",
    "\n",
    "# Initialize population\n",
    "population = initialize_population(10)\n",
    "\n",
    "# Run genetic algorithm\n",
    "generations = 20\n",
    "for generation in range(generations):\n",
    "    new_population = []\n",
    "    for _ in range(len(population) // 2):\n",
    "        parent1, parent2 = select_parents(population)\n",
    "        child1, child2 = crossover(parent1, parent2)\n",
    "        mutate(child1)\n",
    "        mutate(child2)\n",
    "        new_population += [child1, child2]\n",
    "    population = new_population\n",
    "    best_individual = max(population, key=evaluate_fitness)\n",
    "    best_fitness = evaluate_fitness(best_individual)\n",
    "    total_weight = sum(items[i][1]*chosen for i, chosen in enumerate(best_individual))\n",
    "    \n",
    "    print(f\"Generation {generation + 1}: Best fitness = {best_fitness}, Total weight = {total_weight}\")\n"
   ]
  },
  {
   "cell_type": "code",
   "execution_count": 26,
   "id": "3f46f82a-87d7-4943-96db-7dbb583a8eaf",
   "metadata": {},
   "outputs": [
    {
     "data": {
      "text/plain": [
       "[0, 0, 0, 1, 0, 0, 1, 0, 0, 0, 0, 0, 0, 0, 1, 0, 1, 0, 1, 0]"
      ]
     },
     "execution_count": 26,
     "metadata": {},
     "output_type": "execute_result"
    }
   ],
   "source": [
    "best_individual"
   ]
  },
  {
   "cell_type": "code",
   "execution_count": null,
   "id": "a88cd575-2f63-4e68-ba02-cd8b0479185d",
   "metadata": {},
   "outputs": [],
   "source": []
  }
 ],
 "metadata": {
  "kernelspec": {
   "display_name": "Python 3",
   "language": "python",
   "name": "python3"
  },
  "language_info": {
   "codemirror_mode": {
    "name": "ipython",
    "version": 3
   },
   "file_extension": ".py",
   "mimetype": "text/x-python",
   "name": "python",
   "nbconvert_exporter": "python",
   "pygments_lexer": "ipython3",
   "version": "3.8.8"
  }
 },
 "nbformat": 4,
 "nbformat_minor": 5
}
