{
 "cells": [
  {
   "cell_type": "markdown",
   "id": "2e8b9720-dcc7-4d15-91e7-aa1598c6baf4",
   "metadata": {},
   "source": [
    "# Linear Programming Series — Linear Optimization Using Popular Python Packages"
   ]
  },
  {
   "cell_type": "markdown",
   "id": "585fcf55-b4a1-422f-a938-4a81d844e595",
   "metadata": {},
   "source": [
    "## Linear Programming Using Python and The Simplex Method\n"
   ]
  },
  {
   "cell_type": "markdown",
   "id": "166ae114-6d78-4136-bf07-cbb1f4b21c07",
   "metadata": {},
   "source": [
    "### By: Francis Adrian Viernes ©"
   ]
  },
  {
   "cell_type": "markdown",
   "id": "8e59cc6e-db6b-43aa-8a7e-94ee4d9414bc",
   "metadata": {},
   "source": [
    "For the benefit of first-time readers, let us copy this portion from the original article.\n",
    "\n",
    "“A bond portfolio manager has $100,000 to allocate to two different bonds; one corporate and one government bond. The corporate bond has a yield of 4%, a maturity of 3 years, and an A rating from a rating agency that is translated into a numerical rating of 2 for computational purposes.\n",
    "\n",
    "In contrast, the government bond has a yield of 3%, a maturity of 4 years, and a rating of Aaa with the corresponding numerical rating of 1 (lower numerical ratings correspond to higher quality bonds). The portfolio manager would like to allocate her funds so that the average rating for the portfolio is no worse than Aa (numerical equivalent 1.5) and the average maturity of the portfolio is at most 3.6 years.\n",
    "\n",
    "Any amount not invested in the two bonds will be kept in a cash account that is assumed to earn no interest, for simplicity and does not contribute to the average rating or maturity computations.\n",
    "\n",
    "How should the manager allocate her funds between these two bonds to achieve her objective of maximizing the yield from this investment?”"
   ]
  },
  {
   "cell_type": "markdown",
   "id": "45561ccf-ed72-4715-940b-b44304c67001",
   "metadata": {},
   "source": [
    "# SCIPY IMPLEMENTATION"
   ]
  },
  {
   "cell_type": "code",
   "execution_count": 4,
   "id": "1ffea574-a7e1-4e72-a88f-28a67744dede",
   "metadata": {},
   "outputs": [
    {
     "name": "stdout",
     "output_type": "stream",
     "text": [
      "Requirement already satisfied: scipy in /Users/francisadrianviernes/opt/anaconda3/lib/python3.8/site-packages (1.6.2)\n",
      "Requirement already satisfied: numpy<1.23.0,>=1.16.5 in /Users/francisadrianviernes/opt/anaconda3/lib/python3.8/site-packages (from scipy) (1.21.5)\n",
      "\u001b[33mDEPRECATION: pyodbc 4.0.0-unsupported has a non-standard version number. pip 23.3 will enforce this behaviour change. A possible replacement is to upgrade to a newer version of pyodbc or contact the author to suggest that they release a version with a conforming version number. Discussion can be found at https://github.com/pypa/pip/issues/12063\u001b[0m\u001b[33m\n",
      "\u001b[0m\n",
      "\u001b[1m[\u001b[0m\u001b[34;49mnotice\u001b[0m\u001b[1;39;49m]\u001b[0m\u001b[39;49m A new release of pip is available: \u001b[0m\u001b[31;49m23.2\u001b[0m\u001b[39;49m -> \u001b[0m\u001b[32;49m23.2.1\u001b[0m\n",
      "\u001b[1m[\u001b[0m\u001b[34;49mnotice\u001b[0m\u001b[1;39;49m]\u001b[0m\u001b[39;49m To update, run: \u001b[0m\u001b[32;49mpip install --upgrade pip\u001b[0m\n",
      "Requirement already satisfied: pip in /Users/francisadrianviernes/opt/anaconda3/lib/python3.8/site-packages (23.2)\n",
      "Collecting pip\n",
      "  Obtaining dependency information for pip from https://files.pythonhosted.org/packages/50/c2/e06851e8cc28dcad7c155f4753da8833ac06a5c704c109313b8d5a62968a/pip-23.2.1-py3-none-any.whl.metadata\n",
      "  Downloading pip-23.2.1-py3-none-any.whl.metadata (4.2 kB)\n",
      "Downloading pip-23.2.1-py3-none-any.whl (2.1 MB)\n",
      "\u001b[2K   \u001b[90m━━━━━━━━━━━━━━━━━━━━━━━━━━━━━━━━━━━━━━━━\u001b[0m \u001b[32m2.1/2.1 MB\u001b[0m \u001b[31m26.5 MB/s\u001b[0m eta \u001b[36m0:00:00\u001b[0m00:01\u001b[0m00:01\u001b[0m\n",
      "\u001b[?25h\u001b[33mDEPRECATION: pyodbc 4.0.0-unsupported has a non-standard version number. pip 23.3 will enforce this behaviour change. A possible replacement is to upgrade to a newer version of pyodbc or contact the author to suggest that they release a version with a conforming version number. Discussion can be found at https://github.com/pypa/pip/issues/12063\u001b[0m\u001b[33m\n",
      "\u001b[0mInstalling collected packages: pip\n",
      "  Attempting uninstall: pip\n",
      "    Found existing installation: pip 23.2\n",
      "    Uninstalling pip-23.2:\n",
      "      Successfully uninstalled pip-23.2\n",
      "Successfully installed pip-23.2.1\n"
     ]
    }
   ],
   "source": [
    "!pip install scipy"
   ]
  },
  {
   "cell_type": "markdown",
   "id": "684a644a-00ac-41c9-aa42-84bf3388ee6a",
   "metadata": {},
   "source": [
    "`SciPy` is a library that is built on top of `NumPy` . It makes sense to start with this package as familiarity with the NumPy library makes it easy to work with this library. In many of the functions inside the NumPy library, the expected input and output is an NumPy array. The SciPy library is considered mature and well-maintained although it may not be the best option to use for advanced or larger-scale optimization problems."
   ]
  },
  {
   "cell_type": "code",
   "execution_count": 14,
   "id": "8422224f-7413-4bb5-a9da-3436bdd8c8fd",
   "metadata": {},
   "outputs": [
    {
     "name": "stdout",
     "output_type": "stream",
     "text": [
      "Optimal Investment in Corporate Bond: $50000.0\n",
      "Optimal Investment in Government Bond: $50000.0\n",
      "Maximum Yield: 3.5%\n"
     ]
    }
   ],
   "source": [
    "from scipy.optimize import linprog\n",
    "\n",
    "c = [-0.04, -0.03]  # Negative for maximization problem\n",
    "\n",
    "#A represents the coefficient of the constraints\n",
    "A = [[1, 1], \n",
    "     [3, 4], \n",
    "     [2, 1]]\n",
    "\n",
    "#b represents the right hand side of the constraints\n",
    "b = [100000, 3600000, 150000]\n",
    "\n",
    "#bounds ensure that the allocation for either variable do not go lower a certain number or beyond a certain number\n",
    "#bounds are used for constraints like budget constraints\n",
    "# bounds = [(0, 100000), (0, 100000)]\n",
    "\n",
    "res = linprog(c, A_ub=A, b_ub=b, bounds=bounds, method='simplex')\n",
    "print(f\"Optimal Investment in Corporate Bond: ${res.x[0]}\")\n",
    "print(f\"Optimal Investment in Government Bond: ${res.x[1]}\")\n",
    "print(f\"Maximum Yield: {-res.fun/1000}%\")"
   ]
  },
  {
   "cell_type": "markdown",
   "id": "2659f22d-21f5-4dad-b97d-2c8b2a845480",
   "metadata": {},
   "source": [
    "# CVXPY IMPLEMENTATION"
   ]
  },
  {
   "cell_type": "markdown",
   "id": "922ee54a-a670-454a-bf95-569c4c09ca8a",
   "metadata": {},
   "source": [
    "`cvxpy` is a package designed for convex optimization. As a review, remember that if an objective function is convex and we are aiming to minimize it, any local minimizer we find is also a global minimizer. \n",
    "\n",
    "A huge advantage to cvxpy is that it allows users to write the code in a way that most resembles the mathemtical form or the standard form. "
   ]
  },
  {
   "cell_type": "code",
   "execution_count": 15,
   "id": "c3056c15-7eec-4b57-9d22-22638be3c17c",
   "metadata": {},
   "outputs": [
    {
     "name": "stdout",
     "output_type": "stream",
     "text": [
      "Requirement already satisfied: cvxpy in /Users/francisadrianviernes/opt/anaconda3/lib/python3.8/site-packages (1.2.0)\n",
      "Requirement already satisfied: osqp>=0.4.1 in /Users/francisadrianviernes/opt/anaconda3/lib/python3.8/site-packages (from cvxpy) (0.6.2.post5)\n",
      "Requirement already satisfied: ecos>=2 in /Users/francisadrianviernes/opt/anaconda3/lib/python3.8/site-packages (from cvxpy) (2.0.10)\n",
      "Requirement already satisfied: scs>=1.1.6 in /Users/francisadrianviernes/opt/anaconda3/lib/python3.8/site-packages (from cvxpy) (3.2.0)\n",
      "Requirement already satisfied: numpy>=1.15 in /Users/francisadrianviernes/opt/anaconda3/lib/python3.8/site-packages (from cvxpy) (1.21.5)\n",
      "Requirement already satisfied: scipy>=1.1.0 in /Users/francisadrianviernes/opt/anaconda3/lib/python3.8/site-packages (from cvxpy) (1.6.2)\n",
      "Requirement already satisfied: qdldl in /Users/francisadrianviernes/opt/anaconda3/lib/python3.8/site-packages (from osqp>=0.4.1->cvxpy) (0.1.5.post0)\n",
      "\u001b[33mDEPRECATION: pyodbc 4.0.0-unsupported has a non-standard version number. pip 23.3 will enforce this behaviour change. A possible replacement is to upgrade to a newer version of pyodbc or contact the author to suggest that they release a version with a conforming version number. Discussion can be found at https://github.com/pypa/pip/issues/12063\u001b[0m\u001b[33m\n",
      "\u001b[0m"
     ]
    }
   ],
   "source": [
    "!pip install cvxpy"
   ]
  },
  {
   "cell_type": "code",
   "execution_count": 20,
   "id": "a3fc80bf-413b-4abb-a160-829be13364c4",
   "metadata": {},
   "outputs": [
    {
     "name": "stdout",
     "output_type": "stream",
     "text": [
      "Invest in Corporate Bond: $50000.00\n",
      "Invest in Government Bond: $50000.00\n"
     ]
    }
   ],
   "source": [
    "import cvxpy as cp\n",
    "\n",
    "# Define the decision variables\n",
    "x_corp = cp.Variable()  # Amount invested in the corporate bond\n",
    "x_gov = cp.Variable()  # Amount invested in the government bond\n",
    "\n",
    "# Define the objective function\n",
    "yield_total = 0.04 * x_corp + 0.03 * x_gov\n",
    "objective = cp.Maximize(yield_total)\n",
    "\n",
    "# Define the constraints\n",
    "constraints = [\n",
    "    x_corp + x_gov <= 100000,             # Total investment constraint\n",
    "    (3 * x_corp + 4 * x_gov)  <= 360000,  # Average maturity constraint\n",
    "    (2 * x_corp + x_gov)  <= 150000,      # Average rating constraint\n",
    "    x_corp >= 0,                          # Non-negativity constraint for corporate bond\n",
    "    x_gov >= 0                            # Non-negativity constraint for government bond\n",
    "]\n",
    "\n",
    "# Solve the problem\n",
    "problem = cp.Problem(objective, constraints)\n",
    "problem.solve()\n",
    "\n",
    "# Display the results\n",
    "print(f\"Invest in Corporate Bond: ${x_corp.value:.2f}\")\n",
    "print(f\"Invest in Government Bond: ${x_gov.value:.2f}\")\n",
    "\n"
   ]
  },
  {
   "cell_type": "markdown",
   "id": "cc493766-36ae-4920-9746-2292ac55133e",
   "metadata": {},
   "source": [
    "# PYOMO"
   ]
  },
  {
   "cell_type": "markdown",
   "id": "0bc885ca-baba-4a30-9a2b-0c67afb5dade",
   "metadata": {},
   "source": [
    "Pyomo is one of the popular open-source libraries that can be used to solve a wide array of optimization problems. It is developed by Sandia National Laboratories and can interface with many solvers. A key disadvantage, however, is its complexity which leads to a steeper learning curve of the language, compared to others."
   ]
  },
  {
   "cell_type": "code",
   "execution_count": 22,
   "id": "7b4d7718-5da1-48f5-8811-b7134a23c291",
   "metadata": {},
   "outputs": [
    {
     "name": "stdout",
     "output_type": "stream",
     "text": [
      "Collecting pyomo\n",
      "  Obtaining dependency information for pyomo from https://files.pythonhosted.org/packages/a3/70/ec7ff52c19632395263599e91ad0e8c6fdc9f793f254941e701674dc7326/Pyomo-6.6.1-cp38-cp38-macosx_10_15_x86_64.whl.metadata\n",
      "  Downloading Pyomo-6.6.1-cp38-cp38-macosx_10_15_x86_64.whl.metadata (7.4 kB)\n",
      "Requirement already satisfied: ply in /Users/francisadrianviernes/opt/anaconda3/lib/python3.8/site-packages (from pyomo) (3.11)\n",
      "Downloading Pyomo-6.6.1-cp38-cp38-macosx_10_15_x86_64.whl (5.3 MB)\n",
      "\u001b[2K   \u001b[90m━━━━━━━━━━━━━━━━━━━━━━━━━━━━━━━━━━━━━━━━\u001b[0m \u001b[32m5.3/5.3 MB\u001b[0m \u001b[31m3.1 MB/s\u001b[0m eta \u001b[36m0:00:00\u001b[0m00:01\u001b[0m00:01\u001b[0mm\n",
      "\u001b[?25h\u001b[33mDEPRECATION: pyodbc 4.0.0-unsupported has a non-standard version number. pip 23.3 will enforce this behaviour change. A possible replacement is to upgrade to a newer version of pyodbc or contact the author to suggest that they release a version with a conforming version number. Discussion can be found at https://github.com/pypa/pip/issues/12063\u001b[0m\u001b[33m\n",
      "\u001b[0mInstalling collected packages: pyomo\n",
      "Successfully installed pyomo-6.6.1\n"
     ]
    }
   ],
   "source": [
    "!pip install pyomo"
   ]
  },
  {
   "cell_type": "code",
   "execution_count": 28,
   "id": "d5d04636-e368-4b28-9c7d-96759dd53c9d",
   "metadata": {},
   "outputs": [
    {
     "name": "stdout",
     "output_type": "stream",
     "text": [
      "Invest in Corporate Bond: $50000.0\n",
      "Invest in Government Bond: $50000.0\n"
     ]
    }
   ],
   "source": [
    "from pyomo.environ import ConcreteModel, Var, Objective, Constraint, SolverFactory, NonNegativeReals, maximize\n",
    "\n",
    "# Create a model\n",
    "model = ConcreteModel()\n",
    "\n",
    "# Define the decision variables\n",
    "model.x_corp = Var(within=NonNegativeReals)  # Corporate bond investment\n",
    "model.x_gov = Var(within=NonNegativeReals)   # Government bond investment\n",
    "\n",
    "# Define the objective function\n",
    "def objective_rule(m):\n",
    "    return 0.04 * m.x_corp + 0.03 * m.x_gov\n",
    "\n",
    "model.profit = Objective(rule=objective_rule, sense=maximize)\n",
    "\n",
    "# Define constraints\n",
    "def total_investment_rule(m):\n",
    "    return m.x_corp + m.x_gov <= 100000\n",
    "\n",
    "model.total_investment = Constraint(rule=total_investment_rule)\n",
    "\n",
    "def avg_maturity_rule(m):\n",
    "    return (3 * m.x_corp + 4 * m.x_gov) <= 3.6 * (m.x_corp + m.x_gov)  # Reformulated to avoid division\n",
    "\n",
    "model.avg_maturity = Constraint(rule=avg_maturity_rule)\n",
    "\n",
    "def avg_rating_rule(m):\n",
    "    return (2 * m.x_corp + m.x_gov) <= 1.5 * (m.x_corp + m.x_gov)      # Reformulated to avoid division\n",
    "\n",
    "model.avg_rating = Constraint(rule=avg_rating_rule)\n",
    "\n",
    "# Solve\n",
    "solver = SolverFactory('glpk')\n",
    "solver.solve(model)\n",
    "\n",
    "# Display results\n",
    "print(f\"Invest in Corporate Bond: ${model.x_corp()}\")\n",
    "print(f\"Invest in Government Bond: ${model.x_gov()}\")\n"
   ]
  },
  {
   "cell_type": "code",
   "execution_count": null,
   "id": "58f529e0-fd82-49fd-aebf-4fbd1b2adb20",
   "metadata": {},
   "outputs": [],
   "source": []
  }
 ],
 "metadata": {
  "kernelspec": {
   "display_name": "Python 3",
   "language": "python",
   "name": "python3"
  },
  "language_info": {
   "codemirror_mode": {
    "name": "ipython",
    "version": 3
   },
   "file_extension": ".py",
   "mimetype": "text/x-python",
   "name": "python",
   "nbconvert_exporter": "python",
   "pygments_lexer": "ipython3",
   "version": "3.8.8"
  }
 },
 "nbformat": 4,
 "nbformat_minor": 5
}
