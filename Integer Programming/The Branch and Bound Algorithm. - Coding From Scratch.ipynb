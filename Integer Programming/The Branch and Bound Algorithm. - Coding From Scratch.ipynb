{
 "cells": [
  {
   "cell_type": "code",
   "execution_count": 1,
   "id": "8a6261a0-1f58-4468-a399-ec6554b63b6b",
   "metadata": {},
   "outputs": [],
   "source": [
    "import numpy as np\n",
    "from scipy.optimize import linprog\n",
    "\n",
    "optimal_value = -np.inf\n",
    "optimal_solution = None\n",
    "\n",
    "def ilp_solver(c, A_ub, b_ub):\n",
    "    \"\"\"\n",
    "    Solve an Integer Linear Programming (ILP) problem using a branch and bound approach.\n",
    "\n",
    "    Parameters:\n",
    "    - c (array-like): The coefficients of the objective function.\n",
    "    - A_ub (array-like): The coefficients of the inequality constraints (left-hand side).\n",
    "    - b_ub (array-like): The right-hand side values of the inequality constraints.\n",
    "\n",
    "    Returns:\n",
    "    - array: Optimal solution for the ILP problem, or None if the problem is infeasible.\n",
    "    \n",
    "    Global variables modified:\n",
    "    - optimal_value: Stores the optimal value of the ILP problem found so far.\n",
    "    - optimal_solution: Stores the solution corresponding to the optimal value.\n",
    "    \"\"\"\n",
    "    \n",
    "    global optimal_value, optimal_solution\n",
    "    \n",
    "    # Linear programming relaxation\n",
    "    res = linprog(-c, A_ub=A_ub, b_ub=b_ub, bounds=[(0, None), (0, None)], method='highs')\n",
    "    \n",
    "    # If the problem is infeasible or worse than known solution, prune the branch\n",
    "    if not res.success or np.dot(c, res.x) <= optimal_value:\n",
    "        return None\n",
    "    \n",
    "    # Check for non-integer solution\n",
    "    non_integer_variables = [i for i, x in enumerate(res.x) if abs(x - round(x)) > 1e-5]\n",
    "    \n",
    "    # Base case: All variables are integer\n",
    "    if not non_integer_variables:\n",
    "        # Update the optimal solution\n",
    "        optimal_value = np.dot(c, res.x)\n",
    "        optimal_solution = res.x\n",
    "        return res.x\n",
    "    \n",
    "    # Branching\n",
    "    # Selection of Variable\n",
    "    variable_to_branch_on = non_integer_variables[0]\n",
    "    # Enforcing the less than or equal to the floor value\n",
    "    constraint1 = np.zeros(len(c))\n",
    "    constraint1[variable_to_branch_on] = 1\n",
    "    A_ub1 = np.vstack([A_ub, constraint1])\n",
    "    b_ub1 = np.hstack([b_ub, np.floor(res.x[variable_to_branch_on])])\n",
    "    \n",
    "    # Enforcing the greater than or equal to the ceiling value\n",
    "    constraint2 = -1 * constraint1\n",
    "    A_ub2 = np.vstack([A_ub, constraint2])\n",
    "    b_ub2 = np.hstack([b_ub, -np.ceil(res.x[variable_to_branch_on])])\n",
    "    \n",
    "    # Recursively solve branches\n",
    "    ilp_solver(c, A_ub1, b_ub1)\n",
    "    ilp_solver(c, A_ub2, b_ub2)\n",
    "\n",
    "    return optimal_solution\n"
   ]
  },
  {
   "cell_type": "code",
   "execution_count": 2,
   "id": "84a29c60-0c69-48fc-b36b-b57b7727e2b2",
   "metadata": {},
   "outputs": [],
   "source": [
    "# Problem definition\n",
    "c = np.array([1, 1])\n",
    "A_ub = np.array([[-1, 1], [8, 2]])\n",
    "b_ub = np.array([2, 19])\n",
    "\n",
    "solution = ilp_solver(c, A_ub, b_ub)"
   ]
  },
  {
   "cell_type": "code",
   "execution_count": 4,
   "id": "b9fe1db1-d507-496c-8cab-973c3bc1cd2e",
   "metadata": {},
   "outputs": [
    {
     "name": "stdout",
     "output_type": "stream",
     "text": [
      "Optimal Solution [1. 3.]\n",
      "Optimal Value 4.0\n"
     ]
    }
   ],
   "source": [
    "print(\"Optimal Solution\", optimal_solution)\n",
    "print(\"Optimal Value\", optimal_value)"
   ]
  },
  {
   "cell_type": "code",
   "execution_count": null,
   "id": "4ead7655-b548-44f5-8692-c904233de6cc",
   "metadata": {},
   "outputs": [],
   "source": []
  }
 ],
 "metadata": {
  "kernelspec": {
   "display_name": "Python 3 (ipykernel)",
   "language": "python",
   "name": "python3"
  },
  "language_info": {
   "codemirror_mode": {
    "name": "ipython",
    "version": 3
   },
   "file_extension": ".py",
   "mimetype": "text/x-python",
   "name": "python",
   "nbconvert_exporter": "python",
   "pygments_lexer": "ipython3",
   "version": "3.8.8"
  }
 },
 "nbformat": 4,
 "nbformat_minor": 5
}
