{
 "cells": [
  {
   "cell_type": "markdown",
   "id": "34c24a77-c12e-4dc0-b277-8c274a9424ba",
   "metadata": {},
   "source": [
    "# BRANCH AND BOUND"
   ]
  },
  {
   "cell_type": "markdown",
   "id": "249d9dec-d60c-4482-90a2-169b59f36a66",
   "metadata": {},
   "source": [
    "# PRELIMINARIES"
   ]
  },
  {
   "cell_type": "code",
   "execution_count": 10,
   "id": "7ff26fc1-ed4b-40b5-a40a-b1fba9a39507",
   "metadata": {},
   "outputs": [],
   "source": [
    "import numpy as np\n",
    "from scipy.optimize import linprog"
   ]
  },
  {
   "cell_type": "markdown",
   "id": "124576fc-046a-47fb-99c3-c046bb919370",
   "metadata": {
    "tags": []
   },
   "source": [
    "# BASE PROBLEM - ORIGINAL INTEGER SOLUTIONS"
   ]
  },
  {
   "cell_type": "code",
   "execution_count": 11,
   "id": "b72ef257-2208-4443-9484-f58427b0e920",
   "metadata": {},
   "outputs": [
    {
     "name": "stdout",
     "output_type": "stream",
     "text": [
      "Linear Relaxation Solution: [1.5 3.5]\n",
      "The optimal value at this point is  5.0\n"
     ]
    }
   ],
   "source": [
    "# Declaration of variables\n",
    "# Problem definition\n",
    "c = np.array([1, 1]) #x1 + x2\n",
    "# Constraints\n",
    "# Constraints - Left-hand side\n",
    "A_ub = np.array([[-1, 1], [8, 2]])\n",
    "# Constraints - Right-hand side\n",
    "b_ub = np.array([2, 19])\n",
    "\n",
    "# Linear programming relaxation\n",
    "res = linprog(-c, A_ub=A_ub, b_ub=b_ub, bounds=[(0, None), (0, None)], method='highs')\n",
    "\n",
    "print(\"Linear Relaxation Solution:\", res.x)\n",
    "print(\"The optimal value at this point is \", np.dot(c,res.x))"
   ]
  },
  {
   "cell_type": "markdown",
   "id": "8cd9274f-95c3-4024-9787-0bf35e296fbf",
   "metadata": {},
   "source": [
    "# FIRST OF THE TWO NEW LP PROBLEMS"
   ]
  },
  {
   "cell_type": "code",
   "execution_count": 12,
   "id": "53f8518f-44e5-46f9-9010-cef1694220b7",
   "metadata": {},
   "outputs": [
    {
     "name": "stdout",
     "output_type": "stream",
     "text": [
      "Solution: [1. 3.]\n",
      "The optimal value at this point is  4.0\n"
     ]
    }
   ],
   "source": [
    "# Declaration of variables\n",
    "# Problem definition\n",
    "c = np.array([1, 1]) #x1 + x2\n",
    "# Constraints\n",
    "# Constraints - Left-hand side\n",
    "A_ub = np.array([[-1, 1], [8, 2]])\n",
    "# Constraints - Right-hand side\n",
    "b_ub = np.array([2, 19])\n",
    "\n",
    "# Linear programming relaxation\n",
    "res = linprog(-c, A_ub=A_ub, b_ub=b_ub, bounds=[(0, 1), (0, None)], method='highs')\n",
    "\n",
    "print(\"Solution:\", res.x)\n",
    "print(\"The optimal value at this point is \", np.dot(c,res.x))"
   ]
  },
  {
   "cell_type": "markdown",
   "id": "28be681e-618e-493a-bf33-87bc2cd5bc5b",
   "metadata": {},
   "source": [
    "# SECOND OF THE TWO NEW LP PROBLEMS"
   ]
  },
  {
   "cell_type": "code",
   "execution_count": 14,
   "id": "58a913a9-de9d-4e4d-9730-2ace1f0b8071",
   "metadata": {},
   "outputs": [
    {
     "name": "stdout",
     "output_type": "stream",
     "text": [
      "Solution: [2.  1.5]\n",
      "The optimal value at this point is  3.5\n"
     ]
    }
   ],
   "source": [
    "# Declaration of variables\n",
    "# Problem definition\n",
    "c = np.array([1, 1]) #x1 + x2\n",
    "# Constraints\n",
    "# Constraints - Left-hand side\n",
    "A_ub = np.array([[-1, 1], [8, 2]])\n",
    "# Constraints - Right-hand side\n",
    "b_ub = np.array([2, 19])\n",
    "\n",
    "# Linear programming relaxation\n",
    "res = linprog(-c, A_ub=A_ub, b_ub=b_ub, bounds=[(2, None), (0, None)], method='highs')\n",
    "\n",
    "print(\"Solution:\", res.x)\n",
    "print(\"The optimal value at this point is \", np.dot(c,res.x))"
   ]
  },
  {
   "cell_type": "markdown",
   "id": "8e3d4f81-2ee9-444d-a9c1-0fff2ad3db93",
   "metadata": {},
   "source": [
    "# PACKAGED SOLUTION"
   ]
  },
  {
   "cell_type": "code",
   "execution_count": 16,
   "id": "b3d67733-7f55-489a-ba9b-bf3406086057",
   "metadata": {},
   "outputs": [
    {
     "name": "stdout",
     "output_type": "stream",
     "text": [
      "Optimal Integer Solution: [1. 3.]\n",
      "The optimal value at this point is  4.0\n"
     ]
    }
   ],
   "source": [
    "# Declaration of variables\n",
    "# Problem definition\n",
    "c = np.array([1, 1]) #x1 + x2\n",
    "# Constraints\n",
    "# Constraints - Left-hand side\n",
    "A_ub = np.array([[-1, 1], [8, 2]])\n",
    "# Constraints - Right-hand side\n",
    "b_ub = np.array([2, 19])\n",
    "\n",
    "# Linear programming relaxation\n",
    "res = linprog(-c, A_ub=A_ub, b_ub=b_ub, bounds=[(0, None), (0, None)], method='highs', integrality=1)\n",
    "\n",
    "print(\"Optimal Integer Solution:\", res.x)\n",
    "print(\"The optimal value at this point is \", np.dot(c,res.x))"
   ]
  },
  {
   "cell_type": "code",
   "execution_count": 20,
   "id": "a2ce4fa3-3e66-4c7b-b544-69afba0634d3",
   "metadata": {},
   "outputs": [
    {
     "name": "stdout",
     "output_type": "stream",
     "text": [
      "Optimal Integer Solution: [2. 1.]\n",
      "The optimal value at this point is  7.0\n"
     ]
    }
   ],
   "source": [
    "c = np.array([3, 1]) #x1 + x2\n",
    "# Constraints\n",
    "# Constraints - Left-hand side\n",
    "A_ub = np.array([[-1, 1], [8, 2]])\n",
    "# Constraints - Right-hand side\n",
    "b_ub = np.array([2, 19])\n",
    "# solution = ilp_solver(c, A_ub, b_ub)\n",
    "res = linprog(-c, A_ub=A_ub, b_ub=b_ub, bounds=[(0, None), (0, None)], method='highs', integrality=1)\n",
    "\n",
    "print(\"Optimal Integer Solution:\", res.x)\n",
    "print(\"The optimal value at this point is \", np.dot(c,res.x))"
   ]
  },
  {
   "cell_type": "code",
   "execution_count": null,
   "id": "9799a773-bd51-42df-a6e6-04142b8bb8c5",
   "metadata": {},
   "outputs": [],
   "source": []
  }
 ],
 "metadata": {
  "kernelspec": {
   "display_name": "Python 3 (ipykernel)",
   "language": "python",
   "name": "python3"
  },
  "language_info": {
   "codemirror_mode": {
    "name": "ipython",
    "version": 3
   },
   "file_extension": ".py",
   "mimetype": "text/x-python",
   "name": "python",
   "nbconvert_exporter": "python",
   "pygments_lexer": "ipython3",
   "version": "3.8.8"
  }
 },
 "nbformat": 4,
 "nbformat_minor": 5
}
